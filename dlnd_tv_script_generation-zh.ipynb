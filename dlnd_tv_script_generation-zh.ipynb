{
 "cells": [
  {
   "cell_type": "markdown",
   "metadata": {},
   "source": [
    "# 生成电视剧剧本\n",
    "\n",
    "在这个项目中，你将使用 RNN 创作你自己的[《辛普森一家》](https://zh.wikipedia.org/wiki/%E8%BE%9B%E6%99%AE%E6%A3%AE%E4%B8%80%E5%AE%B6)电视剧剧本。你将会用到《辛普森一家》第 27 季中部分剧本的[数据集](https://www.kaggle.com/wcukierski/the-simpsons-by-the-data)。你创建的神经网络将为一个在 [Moe 酒馆](https://simpsonswiki.com/wiki/Moe's_Tavern)中的场景生成一集新的剧本。\n",
    "## 获取数据\n",
    "我们早已为你提供了数据。你将使用原始数据集的子集，它只包括 Moe 酒馆中的场景。数据中并不包括酒馆的其他版本，比如 “Moe 的山洞”、“燃烧的 Moe 酒馆”、“Moe 叔叔的家庭大餐”等等。"
   ]
  },
  {
   "cell_type": "code",
   "execution_count": 1,
   "metadata": {},
   "outputs": [],
   "source": [
    "\"\"\"\n",
    "DON'T MODIFY ANYTHING IN THIS CELL\n",
    "\"\"\"\n",
    "import helper\n",
    "\n",
    "data_dir = './data/simpsons/moes_tavern_lines.txt'\n",
    "text = helper.load_data(data_dir)\n",
    "# Ignore notice, since we don't use it for analysing the data\n",
    "text = text[81:]"
   ]
  },
  {
   "cell_type": "markdown",
   "metadata": {},
   "source": [
    "## 探索数据\n",
    "使用 `view_sentence_range` 来查看数据的不同部分。"
   ]
  },
  {
   "cell_type": "code",
   "execution_count": 2,
   "metadata": {},
   "outputs": [
    {
     "name": "stdout",
     "output_type": "stream",
     "text": [
      "Dataset Stats\n",
      "Roughly the number of unique words: 11492\n",
      "Number of scenes: 262\n",
      "Average number of sentences in each scene: 15.248091603053435\n",
      "Number of lines: 4257\n",
      "Average number of words in each line: 11.50434578341555\n",
      "\n",
      "The sentences 0 to 10:\n",
      "Moe_Szyslak: (INTO PHONE) Moe's Tavern. Where the elite meet to drink.\n",
      "Bart_Simpson: Eh, yeah, hello, is Mike there? Last name, Rotch.\n",
      "Moe_Szyslak: (INTO PHONE) Hold on, I'll check. (TO BARFLIES) Mike Rotch. Mike Rotch. Hey, has anybody seen Mike Rotch, lately?\n",
      "Moe_Szyslak: (INTO PHONE) Listen you little puke. One of these days I'm gonna catch you, and I'm gonna carve my name on your back with an ice pick.\n",
      "Moe_Szyslak: What's the matter Homer? You're not your normal effervescent self.\n",
      "Homer_Simpson: I got my problems, Moe. Give me another one.\n",
      "Moe_Szyslak: Homer, hey, you should not drink to forget your problems.\n",
      "Barney_Gumble: Yeah, you should only drink to enhance your social skills.\n",
      "\n",
      "\n"
     ]
    }
   ],
   "source": [
    "view_sentence_range = (0, 10)\n",
    "\n",
    "\"\"\"\n",
    "DON'T MODIFY ANYTHING IN THIS CELL\n",
    "\"\"\"\n",
    "import numpy as np\n",
    "\n",
    "print('Dataset Stats')\n",
    "print('Roughly the number of unique words: {}'.format(len({word: None for word in text.split()})))\n",
    "scenes = text.split('\\n\\n')\n",
    "print('Number of scenes: {}'.format(len(scenes)))\n",
    "sentence_count_scene = [scene.count('\\n') for scene in scenes]\n",
    "print('Average number of sentences in each scene: {}'.format(np.average(sentence_count_scene)))\n",
    "\n",
    "sentences = [sentence for scene in scenes for sentence in scene.split('\\n')]\n",
    "print('Number of lines: {}'.format(len(sentences)))\n",
    "word_count_sentence = [len(sentence.split()) for sentence in sentences]\n",
    "print('Average number of words in each line: {}'.format(np.average(word_count_sentence)))\n",
    "\n",
    "print()\n",
    "print('The sentences {} to {}:'.format(*view_sentence_range))\n",
    "print('\\n'.join(text.split('\\n')[view_sentence_range[0]:view_sentence_range[1]]))"
   ]
  },
  {
   "cell_type": "markdown",
   "metadata": {},
   "source": [
    "## 实现预处理函数\n",
    "对数据集进行的第一个操作是预处理。请实现下面两个预处理函数：\n",
    "\n",
    "- 查询表\n",
    "- 标记符号的字符串\n",
    "\n",
    "### 查询表\n",
    "要创建词嵌入，你首先要将词语转换为 id。请在这个函数中创建两个字典：\n",
    "\n",
    "- 将词语转换为 id 的字典，我们称它为 `vocab_to_int`\n",
    "- 将 id 转换为词语的字典，我们称它为 `int_to_vocab`\n",
    "\n",
    "请在下面的元组中返回这些字典\n",
    " `(vocab_to_int, int_to_vocab)`"
   ]
  },
  {
   "cell_type": "code",
   "execution_count": 4,
   "metadata": {},
   "outputs": [
    {
     "name": "stdout",
     "output_type": "stream",
     "text": [
      "Tests Passed\n"
     ]
    }
   ],
   "source": [
    "import numpy as np\n",
    "import problem_unittests as tests\n",
    "\n",
    "def create_lookup_tables(text):\n",
    "    \"\"\"\n",
    "    Create lookup tables for vocabulary\n",
    "    :param text: The text of tv scripts split into words\n",
    "    :return: A tuple of dicts (vocab_to_int, int_to_vocab)\n",
    "    \"\"\"\n",
    "    # TODO: Implement Function\n",
    "    # vocab = sorted(set(text))\n",
    "    vocab = set(text)\n",
    "    vocab_to_int = {c: i for i, c in enumerate(vocab)}\n",
    "    int_to_vocab = dict(enumerate(vocab))\n",
    "    return vocab_to_int, int_to_vocab\n",
    "\n",
    "\n",
    "\"\"\"\n",
    "DON'T MODIFY ANYTHING IN THIS CELL THAT IS BELOW THIS LINE\n",
    "\"\"\"\n",
    "tests.test_create_lookup_tables(create_lookup_tables)"
   ]
  },
  {
   "cell_type": "markdown",
   "metadata": {},
   "source": [
    "### 标记符号的字符串\n",
    "我们会使用空格当作分隔符，来将剧本分割为词语数组。然而，句号和感叹号等符号使得神经网络难以分辨“再见”和“再见！”之间的区别。\n",
    "\n",
    "实现函数 `token_lookup` 来返回一个字典，这个字典用于将 “!” 等符号标记为 “||Exclamation_Mark||” 形式。为下列符号创建一个字典，其中符号为标志，值为标记。\n",
    "\n",
    "- period ( . )\n",
    "- comma ( , )\n",
    "- quotation mark ( \" )\n",
    "- semicolon ( ; )\n",
    "- exclamation mark ( ! )\n",
    "- question mark ( ? )\n",
    "- left parenthesis ( ( )\n",
    "- right parenthesis ( ) )\n",
    "- dash ( -- )\n",
    "- return ( \\n )\n",
    "\n",
    "这个字典将用于标记符号并在其周围添加分隔符（空格）。这能将符号视作单独词汇分割开来，并使神经网络更轻松地预测下一个词汇。请确保你并没有使用容易与词汇混淆的标记。与其使用 “dash” 这样的标记，试试使用“||dash||”。"
   ]
  },
  {
   "cell_type": "code",
   "execution_count": 5,
   "metadata": {},
   "outputs": [
    {
     "name": "stdout",
     "output_type": "stream",
     "text": [
      "Tests Passed\n"
     ]
    }
   ],
   "source": [
    "def token_lookup():\n",
    "    \"\"\"\n",
    "    Generate a dict to turn punctuation into a token.\n",
    "    :return: Tokenize dictionary where the key is the punctuation and the value is the token\n",
    "    \"\"\"\n",
    "    # TODO: Implement Function\n",
    "\n",
    "    dict_token = {'.': '||Period||',\n",
    "                  ',': '||Comma||',\n",
    "                  '\"': '||Quotation_Mark||',\n",
    "                  ';': '||Semicolon||',\n",
    "                  '!': '||Exclamation_mark||',\n",
    "                  '?': '||Question_mark||',\n",
    "                  '(': '||Left_Parentheses||',\n",
    "                  ')': '||Right_Parentheses||',\n",
    "                  '--': '||Dash||',\n",
    "                  \"\\n\": '||Return||'}\n",
    "\n",
    "    return dict_token\n",
    "\n",
    "\"\"\"\n",
    "DON'T MODIFY ANYTHING IN THIS CELL THAT IS BELOW THIS LINE\n",
    "\"\"\"\n",
    "tests.test_tokenize(token_lookup)"
   ]
  },
  {
   "cell_type": "markdown",
   "metadata": {},
   "source": [
    "## 预处理并保存所有数据\n",
    "运行以下代码将预处理所有数据，并将它们保存至文件。"
   ]
  },
  {
   "cell_type": "code",
   "execution_count": 6,
   "metadata": {},
   "outputs": [],
   "source": [
    "\"\"\"\n",
    "DON'T MODIFY ANYTHING IN THIS CELL\n",
    "\"\"\"\n",
    "# Preprocess Training, Validation, and Testing Data\n",
    "helper.preprocess_and_save_data(data_dir, token_lookup, create_lookup_tables)"
   ]
  },
  {
   "cell_type": "markdown",
   "metadata": {},
   "source": [
    "# 检查点\n",
    "这是你遇到的第一个检点。如果你想要回到这个 notebook，或需要重新打开 notebook，你都可以从这里开始。预处理的数据都已经保存完毕。"
   ]
  },
  {
   "cell_type": "code",
   "execution_count": 7,
   "metadata": {},
   "outputs": [],
   "source": [
    "\"\"\"\n",
    "DON'T MODIFY ANYTHING IN THIS CELL\n",
    "\"\"\"\n",
    "import helper\n",
    "import numpy as np\n",
    "import problem_unittests as tests\n",
    "\n",
    "int_text, vocab_to_int, int_to_vocab, token_dict = helper.load_preprocess()"
   ]
  },
  {
   "cell_type": "markdown",
   "metadata": {},
   "source": [
    "## 创建神经网络\n",
    "你将通过实现下面的函数，来创造用于构建 RNN 的必要元素：\n",
    "\n",
    "- get_inputs\n",
    "- get_init\\_cell\n",
    "- get_embed\n",
    "- build_rnn\n",
    "- build_nn\n",
    "- get_batches\n",
    "\n",
    "### 检查 TensorFlow 版本并访问 GPU"
   ]
  },
  {
   "cell_type": "code",
   "execution_count": 8,
   "metadata": {},
   "outputs": [
    {
     "name": "stdout",
     "output_type": "stream",
     "text": [
      "TensorFlow Version: 1.0.0\n",
      "Default GPU Device: /gpu:0\n"
     ]
    }
   ],
   "source": [
    "\"\"\"\n",
    "DON'T MODIFY ANYTHING IN THIS CELL\n",
    "\"\"\"\n",
    "from distutils.version import LooseVersion\n",
    "import warnings\n",
    "import tensorflow as tf\n",
    "\n",
    "# Check TensorFlow Version\n",
    "assert LooseVersion(tf.__version__) >= LooseVersion('1.0'), 'Please use TensorFlow version 1.0 or newer'\n",
    "print('TensorFlow Version: {}'.format(tf.__version__))\n",
    "\n",
    "# Check for a GPU\n",
    "if not tf.test.gpu_device_name():\n",
    "    warnings.warn('No GPU found. Please use a GPU to train your neural network.')\n",
    "else:\n",
    "    print('Default GPU Device: {}'.format(tf.test.gpu_device_name()))"
   ]
  },
  {
   "cell_type": "markdown",
   "metadata": {},
   "source": [
    "### 输入\n",
    "\n",
    "实现函数 `get_inputs()` 来为神经网络创建 TF 占位符。它将创建下列占位符：\n",
    "\n",
    "- 使用 [TF 占位符](https://www.tensorflow.org/api_docs/python/tf/placeholder) `name` 参量输入 \"input\" 文本占位符。\n",
    "- Targets 占位符\n",
    "- Learning Rate 占位符\n",
    "\n",
    "返回下列元组中的占位符 `(Input, Targets, LearningRate)`"
   ]
  },
  {
   "cell_type": "code",
   "execution_count": 9,
   "metadata": {},
   "outputs": [
    {
     "name": "stdout",
     "output_type": "stream",
     "text": [
      "Tests Passed\n"
     ]
    }
   ],
   "source": [
    "def get_inputs():\n",
    "    \"\"\"\n",
    "    Create TF Placeholders for input, targets, and learning rate.\n",
    "    :return: Tuple (input, targets, learning rate)\n",
    "    \"\"\"\n",
    "    # TODO: Implement Function\n",
    "    inputs = tf.placeholder(tf.int32, [None, None], name='input')\n",
    "    targets = tf.placeholder(tf.int32, [None, None],  name='targets')\n",
    "    learning_rate = tf.placeholder(tf.float32, shape=None, name='lr')\n",
    "    return inputs, targets, learning_rate\n",
    "\n",
    "\n",
    "\"\"\"\n",
    "DON'T MODIFY ANYTHING IN THIS CELL THAT IS BELOW THIS LINE\n",
    "\"\"\"\n",
    "tests.test_get_inputs(get_inputs)"
   ]
  },
  {
   "cell_type": "markdown",
   "metadata": {},
   "source": [
    "### 创建 RNN Cell 并初始化\n",
    "\n",
    "在 [`MultiRNNCell`](https://www.tensorflow.org/api_docs/python/tf/contrib/rnn/MultiRNNCell) 中堆叠一个或多个 [`BasicLSTMCells`](https://www.tensorflow.org/api_docs/python/tf/contrib/rnn/BasicLSTMCell)\n",
    "\n",
    "- 使用 `rnn_size` 设定 RNN 大小。\n",
    "- 使用 MultiRNNCell 的 [`zero_state()`](https://www.tensorflow.org/api_docs/python/tf/contrib/rnn/MultiRNNCell#zero_state) 函数初始化 Cell 状态\n",
    "- 使用 [`tf.identity()`](https://www.tensorflow.org/api_docs/python/tf/identity) 为初始状态应用名称 \"initial_state\"\n",
    " \n",
    "\n",
    "返回 cell 和下列元组中的初始状态 `(Cell, InitialState)`"
   ]
  },
  {
   "cell_type": "code",
   "execution_count": 10,
   "metadata": {},
   "outputs": [
    {
     "name": "stdout",
     "output_type": "stream",
     "text": [
      "Tests Passed\n"
     ]
    }
   ],
   "source": [
    "def get_init_cell(batch_size, rnn_size):\n",
    "    \"\"\"\n",
    "    Create an RNN Cell and initialize it.\n",
    "    :param batch_size: Size of batches\n",
    "    :param rnn_size: Size of RNNs\n",
    "    :return: Tuple (cell, initialize state)\n",
    "    \"\"\"\n",
    "    \n",
    "    # TODO: Implement Function\n",
    "    n_layers = 2\n",
    "    def make_lstm(rnn_size):\n",
    "        return tf.contrib.rnn.BasicLSTMCell(rnn_size)\n",
    "    cell = tf.contrib.rnn.MultiRNNCell([make_lstm(rnn_size) for _ in range(n_layers)])\n",
    "    # lstm_size = tf.contrib.rnn.BasicLSTMCell(rnn_size)\n",
    "    # cell = tf.contrib.rnn.MultiRNNCell([lstm_size])\n",
    "    initial_state = cell.zero_state(batch_size, tf.float32)\n",
    "    initial_state = tf.identity(initial_state, name='initial_state')\n",
    "    return cell, initial_state\n",
    "\n",
    "\n",
    "\n",
    "\"\"\"\n",
    "DON'T MODIFY ANYTHING IN THIS CELL THAT IS BELOW THIS LINE\n",
    "\"\"\"\n",
    "tests.test_get_init_cell(get_init_cell)"
   ]
  },
  {
   "cell_type": "markdown",
   "metadata": {},
   "source": [
    "### 词嵌入\n",
    "使用 TensorFlow 将嵌入运用到 `input_data` 中。\n",
    "返回嵌入序列。"
   ]
  },
  {
   "cell_type": "code",
   "execution_count": 11,
   "metadata": {},
   "outputs": [
    {
     "name": "stdout",
     "output_type": "stream",
     "text": [
      "Tests Passed\n"
     ]
    }
   ],
   "source": [
    "def get_embed(input_data, vocab_size, embed_dim):\n",
    "    \"\"\"\n",
    "    Create embedding for <input_data>.\n",
    "    :param input_data: TF placeholder for text input.\n",
    "    :param vocab_size: Number of words in vocabulary.\n",
    "    :param embed_dim: Number of embedding dimensions\n",
    "    :return: Embedded input.\n",
    "    \"\"\"\n",
    "    # TODO: Implement Function\n",
    "    embedding = tf.Variable(tf.random_uniform((vocab_size, embed_dim), -1, 1))\n",
    "    embed = tf.nn.embedding_lookup(embedding, input_data)\n",
    "    return embed\n",
    "\n",
    "\n",
    "\"\"\"\n",
    "DON'T MODIFY ANYTHING IN THIS CELL THAT IS BELOW THIS LINE\n",
    "\"\"\"\n",
    "tests.test_get_embed(get_embed)"
   ]
  },
  {
   "cell_type": "markdown",
   "metadata": {},
   "source": [
    "### 创建 RNN\n",
    "你已经在 `get_init_cell()` 函数中创建了 RNN Cell。是时候使用这个 Cell 来创建 RNN了。\n",
    "\n",
    "- 使用 [`tf.nn.dynamic_rnn()`](https://www.tensorflow.org/api_docs/python/tf/nn/dynamic_rnn) 创建 RNN\n",
    "- 使用 [`tf.identity()`](https://www.tensorflow.org/api_docs/python/tf/identity) 将名称 \"final_state\" 应用到最终状态中\n",
    "\n",
    "\n",
    "返回下列元组中的输出和最终状态`(Outputs, FinalState)`"
   ]
  },
  {
   "cell_type": "code",
   "execution_count": 12,
   "metadata": {},
   "outputs": [
    {
     "name": "stdout",
     "output_type": "stream",
     "text": [
      "Tests Passed\n"
     ]
    }
   ],
   "source": [
    "def build_rnn(cell, inputs):\n",
    "    \"\"\"\n",
    "    Create a RNN using a RNN Cell\n",
    "    :param cell: RNN Cell\n",
    "    :param inputs: Input text data\n",
    "    :return: Tuple (Outputs, Final State)\n",
    "    \"\"\"\n",
    "    # TODO: Implement Function\n",
    "    outputs, final_state = tf.nn.dynamic_rnn(cell, inputs, dtype=tf.float32)\n",
    "    final_state = tf.identity(final_state, name='final_state')\n",
    "    return outputs, final_state\n",
    "\n",
    "\n",
    "\"\"\"\n",
    "DON'T MODIFY ANYTHING IN THIS CELL THAT IS BELOW THIS LINE\n",
    "\"\"\"\n",
    "tests.test_build_rnn(build_rnn)"
   ]
  },
  {
   "cell_type": "markdown",
   "metadata": {},
   "source": [
    "### 构建神经网络\n",
    "应用你在上面实现的函数，来：\n",
    "\n",
    "- 使用你的 `get_embed(input_data, vocab_size, embed_dim)` 函数将嵌入应用到 `input_data` 中\n",
    "- 使用 `cell` 和你的 `build_rnn(cell, inputs)` 函数来创建 RNN\n",
    "- 应用一个完全联通线性激活和 `vocab_size` 的分层作为输出数量。\n",
    "\n",
    "返回下列元组中的 logit 和最终状态 `Logits, FinalState`"
   ]
  },
  {
   "cell_type": "code",
   "execution_count": 13,
   "metadata": {},
   "outputs": [
    {
     "name": "stdout",
     "output_type": "stream",
     "text": [
      "Tests Passed\n"
     ]
    }
   ],
   "source": [
    "def build_nn(cell, rnn_size, input_data, vocab_size, embed_dim):\n",
    "    \"\"\"\n",
    "    Build part of the neural network\n",
    "    :param cell: RNN cell\n",
    "    :param rnn_size: Size of rnns\n",
    "    :param input_data: Input data\n",
    "    :param vocab_size: Vocabulary size\n",
    "    :param embed_dim: Number of embedding dimensions\n",
    "    :return: Tuple (Logits, FinalState)\n",
    "    \"\"\"\n",
    "    # TODO: Implement Function\n",
    "    embed = get_embed(input_data, vocab_size, embed_dim)\n",
    "    outputs, final_state = build_rnn(cell, embed)\n",
    "    logits = tf.contrib.layers.fully_connected(outputs, vocab_size, activation_fn=None)\n",
    "    return logits, final_state\n",
    "\n",
    "\n",
    "\n",
    "\"\"\"\n",
    "DON'T MODIFY ANYTHING IN THIS CELL THAT IS BELOW THIS LINE\n",
    "\"\"\"\n",
    "tests.test_build_nn(build_nn)"
   ]
  },
  {
   "cell_type": "markdown",
   "metadata": {},
   "source": [
    "### 批次\n",
    "\n",
    "实现 `get_batches` 来使用 `int_text` 创建输入与目标批次。这些批次应为 Numpy 数组，并具有形状 `(number of batches, 2, batch size, sequence length)`。每个批次包含两个元素：\n",
    "\n",
    "- 第一个元素为**输入**的单独批次，并具有形状 `[batch size, sequence length]`\n",
    "- 第二个元素为**目标**的单独批次，并具有形状 `[batch size, sequence length]`\n",
    "\n",
    "如果你无法在最后一个批次中填入足够数据，请放弃这个批次。\n",
    "\n",
    "例如 `get_batches([1, 2, 3, 4, 5, 6, 7, 8, 9, 10, 11, 12, 13, 14, 15], 2, 3)` 将返回下面这个 Numpy 数组："
   ]
  },
  {
   "cell_type": "code",
   "execution_count": null,
   "metadata": {
    "collapsed": true
   },
   "outputs": [],
   "source": [
    "[\n",
    "  # First Batch\n",
    "  [\n",
    "    # Batch of Input\n",
    "    [[ 1  2  3], [ 7  8  9]],\n",
    "    # Batch of targets\n",
    "    [[ 2  3  4], [ 8  9 10]]\n",
    "  ],\n",
    " \n",
    "  # Second Batch\n",
    "  [\n",
    "    # Batch of Input\n",
    "    [[ 4  5  6], [10 11 12]],\n",
    "    # Batch of targets\n",
    "    [[ 5  6  7], [11 12 13]]\n",
    "  ]\n",
    "]"
   ]
  },
  {
   "cell_type": "code",
   "execution_count": 14,
   "metadata": {},
   "outputs": [
    {
     "name": "stdout",
     "output_type": "stream",
     "text": [
      "Tests Passed\n"
     ]
    }
   ],
   "source": [
    "def get_batches(int_text, batch_size, seq_length):\n",
    "    \"\"\"\n",
    "    Return batches of input and target\n",
    "    :param int_text: Text with the words replaced by their ids\n",
    "    :param batch_size: The size of batch\n",
    "    :param seq_length: The length of sequence\n",
    "    :return: Batches as a Numpy array\n",
    "    \"\"\"\n",
    "    # TODO: Implement Function\n",
    "    batches=[]\n",
    "    n_batches = len(int_text) // (batch_size * seq_length)\n",
    "    int_text_i = np.array(int_text[:n_batches * (batch_size * seq_length)])\n",
    "    int_text_j = np.array(int_text[1:n_batches * (batch_size * seq_length) + 1])\n",
    "\n",
    "    # x_batch = np.split(int_text_i, n_batches)\n",
    "    # y_batch = np.split(int_text_j, n_batches)\n",
    "    x_batch = np.array(int_text_i).reshape((batch_size, -1))\n",
    "    y_batch = np.array(int_text_j).reshape((batch_size, -1))\n",
    "    for i in range(n_batches):\n",
    "        # a = np.split(x_batch[i], batch_size)\n",
    "        # b = np.split(y_batch[i], batch_size)\n",
    "        start = i * seq_length\n",
    "        a = x_batch[:, start: start + seq_length]\n",
    "        b = y_batch[:, start: start + seq_length]\n",
    "        n_stack = np.stack((a, b), axis=0)\n",
    "        batches.append(n_stack)\n",
    "\n",
    "    return np.array(batches)\n",
    "\n",
    "\n",
    "\"\"\"\n",
    "DON'T MODIFY ANYTHING IN THIS CELL THAT IS BELOW THIS LINE\n",
    "\"\"\"\n",
    "tests.test_get_batches(get_batches)"
   ]
  },
  {
   "cell_type": "code",
   "execution_count": 16,
   "metadata": {},
   "outputs": [
    {
     "name": "stdout",
     "output_type": "stream",
     "text": [
      "Tests Passed\n"
     ]
    }
   ],
   "source": [
    "def get_batches1(int_text, batch_size, seq_length):\n",
    "    n_batches = int(len(int_text) / (batch_size * seq_length))\n",
    "    # Drop the last few characters to make only full batches\n",
    "    x_data = np.array(int_text[: n_batches * batch_size * seq_length])\n",
    "    y_data = np.array(int_text[1: n_batches * batch_size * seq_length + 1])\n",
    "\n",
    "    x_batches = np.split(x_data.reshape(batch_size, -1), n_batches, 1)\n",
    "    y_batches = np.split(y_data.reshape(batch_size, -1), n_batches, 1)\n",
    "    return np.array(list(zip(x_batches, y_batches)))\n",
    "\n",
    "tests.test_get_batches(get_batches1)"
   ]
  },
  {
   "cell_type": "markdown",
   "metadata": {},
   "source": [
    "## 神经网络训练\n",
    "### 超参数\n",
    "调整下列参数:\n",
    "\n",
    "- 将 `num_epochs` 设置为训练次数。\n",
    "- 将 `batch_size` 设置为程序组大小。\n",
    "- 将 `rnn_size` 设置为 RNN 大小。\n",
    "- 将 `embed_dim` 设置为嵌入大小。\n",
    "- 将 `seq_length` 设置为序列长度。\n",
    "- 将 `learning_rate` 设置为学习率。\n",
    "- 将 `show_every_n_batches` 设置为神经网络应输出的程序组数量。"
   ]
  },
  {
   "cell_type": "code",
   "execution_count": 20,
   "metadata": {},
   "outputs": [],
   "source": [
    "# Number of Epochs\n",
    "num_epochs = 200\n",
    "# Batch Size\n",
    "batch_size = 128\n",
    "# RNN Size\n",
    "rnn_size = 512\n",
    "# Embedding Dimension Size\n",
    "embed_dim = 500\n",
    "# Sequence Length\n",
    "seq_length = 11\n",
    "# Learning Rate\n",
    "learning_rate = 0.001\n",
    "# Show stats for every n number of batches\n",
    "show_every_n_batches = 30\n",
    "\n",
    "\"\"\"\n",
    "DON'T MODIFY ANYTHING IN THIS CELL THAT IS BELOW THIS LINE\n",
    "\"\"\"\n",
    "save_dir = './save'"
   ]
  },
  {
   "cell_type": "markdown",
   "metadata": {},
   "source": [
    "### 创建图表\n",
    "使用你实现的神经网络创建图表。"
   ]
  },
  {
   "cell_type": "code",
   "execution_count": 21,
   "metadata": {},
   "outputs": [],
   "source": [
    "\"\"\"\n",
    "DON'T MODIFY ANYTHING IN THIS CELL\n",
    "\"\"\"\n",
    "from tensorflow.contrib import seq2seq\n",
    "\n",
    "train_graph = tf.Graph()\n",
    "with train_graph.as_default():\n",
    "    vocab_size = len(int_to_vocab)\n",
    "    input_text, targets, lr = get_inputs()\n",
    "    input_data_shape = tf.shape(input_text)\n",
    "    cell, initial_state = get_init_cell(input_data_shape[0], rnn_size)\n",
    "    logits, final_state = build_nn(cell, rnn_size, input_text, vocab_size, embed_dim)\n",
    "\n",
    "    # Probabilities for generating words\n",
    "    probs = tf.nn.softmax(logits, name='probs')\n",
    "\n",
    "    # Loss function\n",
    "    cost = seq2seq.sequence_loss(\n",
    "        logits,\n",
    "        targets,\n",
    "        tf.ones([input_data_shape[0], input_data_shape[1]]))\n",
    "\n",
    "    # Optimizer\n",
    "    optimizer = tf.train.AdamOptimizer(lr)\n",
    "\n",
    "    # Gradient Clipping\n",
    "    gradients = optimizer.compute_gradients(cost)\n",
    "    capped_gradients = [(tf.clip_by_value(grad, -1., 1.), var) for grad, var in gradients if grad is not None]\n",
    "    train_op = optimizer.apply_gradients(capped_gradients)"
   ]
  },
  {
   "cell_type": "markdown",
   "metadata": {},
   "source": [
    "## 训练\n",
    "在预处理数据中训练神经网络。如果你遇到困难，请查看这个[表格](https://discussions.udacity.com/)，看看是否有人遇到了和你一样的问题。"
   ]
  },
  {
   "cell_type": "code",
   "execution_count": 22,
   "metadata": {},
   "outputs": [
    {
     "name": "stdout",
     "output_type": "stream",
     "text": [
      "Epoch   0 Batch    0/49   train_loss = 8.822\n",
      "Epoch   0 Batch   31/49   train_loss = 6.474\n",
      "Epoch   1 Batch   13/49   train_loss = 6.046\n",
      "Epoch   1 Batch   44/49   train_loss = 6.150\n",
      "Epoch   2 Batch   26/49   train_loss = 6.039\n",
      "Epoch   3 Batch    8/49   train_loss = 6.098\n",
      "Epoch   3 Batch   39/49   train_loss = 5.965\n",
      "Epoch   4 Batch   21/49   train_loss = 5.809\n",
      "Epoch   5 Batch    3/49   train_loss = 5.554\n",
      "Epoch   5 Batch   34/49   train_loss = 5.432\n",
      "Epoch   6 Batch   16/49   train_loss = 5.336\n",
      "Epoch   6 Batch   47/49   train_loss = 5.025\n",
      "Epoch   7 Batch   29/49   train_loss = 4.936\n",
      "Epoch   8 Batch   11/49   train_loss = 4.982\n",
      "Epoch   8 Batch   42/49   train_loss = 4.745\n",
      "Epoch   9 Batch   24/49   train_loss = 4.762\n",
      "Epoch  10 Batch    6/49   train_loss = 4.754\n",
      "Epoch  10 Batch   37/49   train_loss = 4.513\n",
      "Epoch  11 Batch   19/49   train_loss = 4.468\n",
      "Epoch  12 Batch    1/49   train_loss = 4.517\n",
      "Epoch  12 Batch   32/49   train_loss = 4.366\n",
      "Epoch  13 Batch   14/49   train_loss = 4.342\n",
      "Epoch  13 Batch   45/49   train_loss = 4.390\n",
      "Epoch  14 Batch   27/49   train_loss = 4.238\n",
      "Epoch  15 Batch    9/49   train_loss = 4.207\n",
      "Epoch  15 Batch   40/49   train_loss = 3.898\n",
      "Epoch  16 Batch   22/49   train_loss = 4.006\n",
      "Epoch  17 Batch    4/49   train_loss = 3.938\n",
      "Epoch  17 Batch   35/49   train_loss = 3.961\n",
      "Epoch  18 Batch   17/49   train_loss = 3.804\n",
      "Epoch  18 Batch   48/49   train_loss = 3.759\n",
      "Epoch  19 Batch   30/49   train_loss = 3.714\n",
      "Epoch  20 Batch   12/49   train_loss = 3.610\n",
      "Epoch  20 Batch   43/49   train_loss = 3.688\n",
      "Epoch  21 Batch   25/49   train_loss = 3.584\n",
      "Epoch  22 Batch    7/49   train_loss = 3.473\n",
      "Epoch  22 Batch   38/49   train_loss = 3.412\n",
      "Epoch  23 Batch   20/49   train_loss = 3.430\n",
      "Epoch  24 Batch    2/49   train_loss = 3.263\n",
      "Epoch  24 Batch   33/49   train_loss = 3.142\n",
      "Epoch  25 Batch   15/49   train_loss = 3.236\n",
      "Epoch  25 Batch   46/49   train_loss = 2.998\n",
      "Epoch  26 Batch   28/49   train_loss = 3.012\n",
      "Epoch  27 Batch   10/49   train_loss = 2.929\n",
      "Epoch  27 Batch   41/49   train_loss = 2.793\n",
      "Epoch  28 Batch   23/49   train_loss = 2.582\n",
      "Epoch  29 Batch    5/49   train_loss = 2.702\n",
      "Epoch  29 Batch   36/49   train_loss = 2.713\n",
      "Epoch  30 Batch   18/49   train_loss = 2.613\n",
      "Epoch  31 Batch    0/49   train_loss = 2.465\n",
      "Epoch  31 Batch   31/49   train_loss = 2.441\n",
      "Epoch  32 Batch   13/49   train_loss = 2.389\n",
      "Epoch  32 Batch   44/49   train_loss = 2.270\n",
      "Epoch  33 Batch   26/49   train_loss = 2.292\n",
      "Epoch  34 Batch    8/49   train_loss = 2.221\n",
      "Epoch  34 Batch   39/49   train_loss = 2.086\n",
      "Epoch  35 Batch   21/49   train_loss = 2.292\n",
      "Epoch  36 Batch    3/49   train_loss = 2.105\n",
      "Epoch  36 Batch   34/49   train_loss = 2.094\n",
      "Epoch  37 Batch   16/49   train_loss = 1.881\n",
      "Epoch  37 Batch   47/49   train_loss = 1.861\n",
      "Epoch  38 Batch   29/49   train_loss = 1.841\n",
      "Epoch  39 Batch   11/49   train_loss = 1.810\n",
      "Epoch  39 Batch   42/49   train_loss = 1.726\n",
      "Epoch  40 Batch   24/49   train_loss = 1.700\n",
      "Epoch  41 Batch    6/49   train_loss = 1.614\n",
      "Epoch  41 Batch   37/49   train_loss = 1.563\n",
      "Epoch  42 Batch   19/49   train_loss = 1.495\n",
      "Epoch  43 Batch    1/49   train_loss = 1.534\n",
      "Epoch  43 Batch   32/49   train_loss = 1.431\n",
      "Epoch  44 Batch   14/49   train_loss = 1.260\n",
      "Epoch  44 Batch   45/49   train_loss = 1.282\n",
      "Epoch  45 Batch   27/49   train_loss = 1.169\n",
      "Epoch  46 Batch    9/49   train_loss = 1.074\n",
      "Epoch  46 Batch   40/49   train_loss = 1.186\n",
      "Epoch  47 Batch   22/49   train_loss = 1.012\n",
      "Epoch  48 Batch    4/49   train_loss = 1.061\n",
      "Epoch  48 Batch   35/49   train_loss = 1.116\n",
      "Epoch  49 Batch   17/49   train_loss = 0.986\n",
      "Epoch  49 Batch   48/49   train_loss = 1.030\n",
      "Epoch  50 Batch   30/49   train_loss = 0.999\n",
      "Epoch  51 Batch   12/49   train_loss = 0.939\n",
      "Epoch  51 Batch   43/49   train_loss = 0.844\n",
      "Epoch  52 Batch   25/49   train_loss = 0.892\n",
      "Epoch  53 Batch    7/49   train_loss = 0.839\n",
      "Epoch  53 Batch   38/49   train_loss = 0.773\n",
      "Epoch  54 Batch   20/49   train_loss = 0.771\n",
      "Epoch  55 Batch    2/49   train_loss = 0.777\n",
      "Epoch  55 Batch   33/49   train_loss = 0.754\n",
      "Epoch  56 Batch   15/49   train_loss = 0.744\n",
      "Epoch  56 Batch   46/49   train_loss = 0.659\n",
      "Epoch  57 Batch   28/49   train_loss = 0.611\n",
      "Epoch  58 Batch   10/49   train_loss = 0.630\n",
      "Epoch  58 Batch   41/49   train_loss = 0.614\n",
      "Epoch  59 Batch   23/49   train_loss = 0.527\n",
      "Epoch  60 Batch    5/49   train_loss = 0.619\n",
      "Epoch  60 Batch   36/49   train_loss = 0.576\n",
      "Epoch  61 Batch   18/49   train_loss = 0.586\n",
      "Epoch  62 Batch    0/49   train_loss = 0.580\n",
      "Epoch  62 Batch   31/49   train_loss = 0.594\n",
      "Epoch  63 Batch   13/49   train_loss = 0.540\n",
      "Epoch  63 Batch   44/49   train_loss = 0.453\n",
      "Epoch  64 Batch   26/49   train_loss = 0.509\n",
      "Epoch  65 Batch    8/49   train_loss = 0.444\n",
      "Epoch  65 Batch   39/49   train_loss = 0.416\n",
      "Epoch  66 Batch   21/49   train_loss = 0.470\n",
      "Epoch  67 Batch    3/49   train_loss = 0.448\n",
      "Epoch  67 Batch   34/49   train_loss = 0.455\n",
      "Epoch  68 Batch   16/49   train_loss = 0.422\n",
      "Epoch  68 Batch   47/49   train_loss = 0.429\n",
      "Epoch  69 Batch   29/49   train_loss = 0.451\n",
      "Epoch  70 Batch   11/49   train_loss = 0.483\n",
      "Epoch  70 Batch   42/49   train_loss = 0.393\n",
      "Epoch  71 Batch   24/49   train_loss = 0.475\n",
      "Epoch  72 Batch    6/49   train_loss = 0.398\n",
      "Epoch  72 Batch   37/49   train_loss = 0.437\n",
      "Epoch  73 Batch   19/49   train_loss = 0.383\n",
      "Epoch  74 Batch    1/49   train_loss = 0.409\n",
      "Epoch  74 Batch   32/49   train_loss = 0.437\n",
      "Epoch  75 Batch   14/49   train_loss = 0.364\n",
      "Epoch  75 Batch   45/49   train_loss = 0.380\n",
      "Epoch  76 Batch   27/49   train_loss = 0.399\n",
      "Epoch  77 Batch    9/49   train_loss = 0.337\n",
      "Epoch  77 Batch   40/49   train_loss = 0.409\n",
      "Epoch  78 Batch   22/49   train_loss = 0.359\n",
      "Epoch  79 Batch    4/49   train_loss = 0.355\n",
      "Epoch  79 Batch   35/49   train_loss = 0.393\n",
      "Epoch  80 Batch   17/49   train_loss = 0.368\n",
      "Epoch  80 Batch   48/49   train_loss = 0.367\n",
      "Epoch  81 Batch   30/49   train_loss = 0.379\n",
      "Epoch  82 Batch   12/49   train_loss = 0.344\n",
      "Epoch  82 Batch   43/49   train_loss = 0.345\n",
      "Epoch  83 Batch   25/49   train_loss = 0.367\n",
      "Epoch  84 Batch    7/49   train_loss = 0.366\n",
      "Epoch  84 Batch   38/49   train_loss = 0.346\n",
      "Epoch  85 Batch   20/49   train_loss = 0.355\n",
      "Epoch  86 Batch    2/49   train_loss = 0.372\n",
      "Epoch  86 Batch   33/49   train_loss = 0.360\n",
      "Epoch  87 Batch   15/49   train_loss = 0.374\n",
      "Epoch  87 Batch   46/49   train_loss = 0.314\n",
      "Epoch  88 Batch   28/49   train_loss = 0.318\n",
      "Epoch  89 Batch   10/49   train_loss = 0.348\n",
      "Epoch  89 Batch   41/49   train_loss = 0.342\n",
      "Epoch  90 Batch   23/49   train_loss = 0.300\n",
      "Epoch  91 Batch    5/49   train_loss = 0.356\n",
      "Epoch  91 Batch   36/49   train_loss = 0.348\n",
      "Epoch  92 Batch   18/49   train_loss = 0.365\n",
      "Epoch  93 Batch    0/49   train_loss = 0.366\n",
      "Epoch  93 Batch   31/49   train_loss = 0.376\n",
      "Epoch  94 Batch   13/49   train_loss = 0.337\n",
      "Epoch  94 Batch   44/49   train_loss = 0.312\n",
      "Epoch  95 Batch   26/49   train_loss = 0.357\n",
      "Epoch  96 Batch    8/49   train_loss = 0.313\n",
      "Epoch  96 Batch   39/49   train_loss = 0.314\n",
      "Epoch  97 Batch   21/49   train_loss = 0.334\n",
      "Epoch  98 Batch    3/49   train_loss = 0.327\n",
      "Epoch  98 Batch   34/49   train_loss = 0.325\n",
      "Epoch  99 Batch   16/49   train_loss = 0.315\n",
      "Epoch  99 Batch   47/49   train_loss = 0.328\n",
      "Epoch 100 Batch   29/49   train_loss = 0.356\n",
      "Epoch 101 Batch   11/49   train_loss = 0.371\n",
      "Epoch 101 Batch   42/49   train_loss = 0.313\n",
      "Epoch 102 Batch   24/49   train_loss = 0.367\n",
      "Epoch 103 Batch    6/49   train_loss = 0.333\n",
      "Epoch 103 Batch   37/49   train_loss = 0.351\n",
      "Epoch 104 Batch   19/49   train_loss = 0.304\n",
      "Epoch 105 Batch    1/49   train_loss = 0.343\n",
      "Epoch 105 Batch   32/49   train_loss = 0.358\n",
      "Epoch 106 Batch   14/49   train_loss = 0.313\n",
      "Epoch 106 Batch   45/49   train_loss = 0.328\n",
      "Epoch 107 Batch   27/49   train_loss = 0.332\n",
      "Epoch 108 Batch    9/49   train_loss = 0.292\n",
      "Epoch 108 Batch   40/49   train_loss = 0.341\n",
      "Epoch 109 Batch   22/49   train_loss = 0.326\n",
      "Epoch 110 Batch    4/49   train_loss = 0.322\n",
      "Epoch 110 Batch   35/49   train_loss = 0.353\n",
      "Epoch 111 Batch   17/49   train_loss = 0.331\n",
      "Epoch 111 Batch   48/49   train_loss = 0.334\n",
      "Epoch 112 Batch   30/49   train_loss = 0.351\n",
      "Epoch 113 Batch   12/49   train_loss = 0.315\n",
      "Epoch 113 Batch   43/49   train_loss = 0.322\n",
      "Epoch 114 Batch   25/49   train_loss = 0.336\n",
      "Epoch 115 Batch    7/49   train_loss = 0.348\n"
     ]
    },
    {
     "name": "stdout",
     "output_type": "stream",
     "text": [
      "Epoch 115 Batch   38/49   train_loss = 0.324\n",
      "Epoch 116 Batch   20/49   train_loss = 0.338\n",
      "Epoch 117 Batch    2/49   train_loss = 0.354\n",
      "Epoch 117 Batch   33/49   train_loss = 0.342\n",
      "Epoch 118 Batch   15/49   train_loss = 0.351\n",
      "Epoch 118 Batch   46/49   train_loss = 0.298\n",
      "Epoch 119 Batch   28/49   train_loss = 0.303\n",
      "Epoch 120 Batch   10/49   train_loss = 0.332\n",
      "Epoch 120 Batch   41/49   train_loss = 0.328\n",
      "Epoch 121 Batch   23/49   train_loss = 0.288\n",
      "Epoch 122 Batch    5/49   train_loss = 0.347\n",
      "Epoch 122 Batch   36/49   train_loss = 0.337\n",
      "Epoch 123 Batch   18/49   train_loss = 0.353\n",
      "Epoch 124 Batch    0/49   train_loss = 0.361\n",
      "Epoch 124 Batch   31/49   train_loss = 0.389\n",
      "Epoch 125 Batch   13/49   train_loss = 0.349\n",
      "Epoch 125 Batch   44/49   train_loss = 0.358\n",
      "Epoch 126 Batch   26/49   train_loss = 0.402\n",
      "Epoch 127 Batch    8/49   train_loss = 0.382\n",
      "Epoch 127 Batch   39/49   train_loss = 0.355\n",
      "Epoch 128 Batch   21/49   train_loss = 0.353\n",
      "Epoch 129 Batch    3/49   train_loss = 0.332\n",
      "Epoch 129 Batch   34/49   train_loss = 0.325\n",
      "Epoch 130 Batch   16/49   train_loss = 0.309\n",
      "Epoch 130 Batch   47/49   train_loss = 0.316\n",
      "Epoch 131 Batch   29/49   train_loss = 0.346\n",
      "Epoch 132 Batch   11/49   train_loss = 0.362\n",
      "Epoch 132 Batch   42/49   train_loss = 0.304\n",
      "Epoch 133 Batch   24/49   train_loss = 0.362\n",
      "Epoch 134 Batch    6/49   train_loss = 0.325\n",
      "Epoch 134 Batch   37/49   train_loss = 0.341\n",
      "Epoch 135 Batch   19/49   train_loss = 0.295\n",
      "Epoch 136 Batch    1/49   train_loss = 0.334\n",
      "Epoch 136 Batch   32/49   train_loss = 0.349\n",
      "Epoch 137 Batch   14/49   train_loss = 0.305\n",
      "Epoch 137 Batch   45/49   train_loss = 0.318\n",
      "Epoch 138 Batch   27/49   train_loss = 0.327\n",
      "Epoch 139 Batch    9/49   train_loss = 0.287\n",
      "Epoch 139 Batch   40/49   train_loss = 0.331\n",
      "Epoch 140 Batch   22/49   train_loss = 0.313\n",
      "Epoch 141 Batch    4/49   train_loss = 0.316\n",
      "Epoch 141 Batch   35/49   train_loss = 0.346\n",
      "Epoch 142 Batch   17/49   train_loss = 0.318\n",
      "Epoch 142 Batch   48/49   train_loss = 0.326\n",
      "Epoch 143 Batch   30/49   train_loss = 0.339\n",
      "Epoch 144 Batch   12/49   train_loss = 0.307\n",
      "Epoch 144 Batch   43/49   train_loss = 0.316\n",
      "Epoch 145 Batch   25/49   train_loss = 0.326\n",
      "Epoch 146 Batch    7/49   train_loss = 0.324\n",
      "Epoch 146 Batch   38/49   train_loss = 0.316\n",
      "Epoch 147 Batch   20/49   train_loss = 0.327\n",
      "Epoch 148 Batch    2/49   train_loss = 0.340\n",
      "Epoch 148 Batch   33/49   train_loss = 0.330\n",
      "Epoch 149 Batch   15/49   train_loss = 0.340\n",
      "Epoch 149 Batch   46/49   train_loss = 0.289\n",
      "Epoch 150 Batch   28/49   train_loss = 0.292\n",
      "Epoch 151 Batch   10/49   train_loss = 0.320\n",
      "Epoch 151 Batch   41/49   train_loss = 0.316\n",
      "Epoch 152 Batch   23/49   train_loss = 0.279\n",
      "Epoch 153 Batch    5/49   train_loss = 0.326\n",
      "Epoch 153 Batch   36/49   train_loss = 0.321\n",
      "Epoch 154 Batch   18/49   train_loss = 0.337\n",
      "Epoch 155 Batch    0/49   train_loss = 0.338\n",
      "Epoch 155 Batch   31/49   train_loss = 0.353\n",
      "Epoch 156 Batch   13/49   train_loss = 0.312\n",
      "Epoch 156 Batch   44/49   train_loss = 0.287\n",
      "Epoch 157 Batch   26/49   train_loss = 0.334\n",
      "Epoch 158 Batch    8/49   train_loss = 0.293\n",
      "Epoch 158 Batch   39/49   train_loss = 0.297\n",
      "Epoch 159 Batch   21/49   train_loss = 0.313\n",
      "Epoch 160 Batch    3/49   train_loss = 0.306\n",
      "Epoch 160 Batch   34/49   train_loss = 0.307\n",
      "Epoch 161 Batch   16/49   train_loss = 0.298\n",
      "Epoch 161 Batch   47/49   train_loss = 0.306\n",
      "Epoch 162 Batch   29/49   train_loss = 0.336\n",
      "Epoch 163 Batch   11/49   train_loss = 0.350\n",
      "Epoch 163 Batch   42/49   train_loss = 0.294\n",
      "Epoch 164 Batch   24/49   train_loss = 0.348\n",
      "Epoch 165 Batch    6/49   train_loss = 0.315\n",
      "Epoch 165 Batch   37/49   train_loss = 0.332\n",
      "Epoch 166 Batch   19/49   train_loss = 0.288\n",
      "Epoch 167 Batch    1/49   train_loss = 0.325\n",
      "Epoch 167 Batch   32/49   train_loss = 0.339\n",
      "Epoch 168 Batch   14/49   train_loss = 0.298\n",
      "Epoch 168 Batch   45/49   train_loss = 0.310\n",
      "Epoch 169 Batch   27/49   train_loss = 0.317\n",
      "Epoch 170 Batch    9/49   train_loss = 0.275\n",
      "Epoch 170 Batch   40/49   train_loss = 0.323\n",
      "Epoch 171 Batch   22/49   train_loss = 0.308\n",
      "Epoch 172 Batch    4/49   train_loss = 0.308\n",
      "Epoch 172 Batch   35/49   train_loss = 0.338\n",
      "Epoch 173 Batch   17/49   train_loss = 0.312\n",
      "Epoch 173 Batch   48/49   train_loss = 0.317\n",
      "Epoch 174 Batch   30/49   train_loss = 0.332\n",
      "Epoch 175 Batch   12/49   train_loss = 0.300\n",
      "Epoch 175 Batch   43/49   train_loss = 0.310\n",
      "Epoch 176 Batch   25/49   train_loss = 0.319\n",
      "Epoch 177 Batch    7/49   train_loss = 0.316\n",
      "Epoch 177 Batch   38/49   train_loss = 0.309\n",
      "Epoch 178 Batch   20/49   train_loss = 0.320\n",
      "Epoch 179 Batch    2/49   train_loss = 0.336\n",
      "Epoch 179 Batch   33/49   train_loss = 0.322\n",
      "Epoch 180 Batch   15/49   train_loss = 0.334\n",
      "Epoch 180 Batch   46/49   train_loss = 0.285\n",
      "Epoch 181 Batch   28/49   train_loss = 0.287\n",
      "Epoch 182 Batch   10/49   train_loss = 0.315\n",
      "Epoch 182 Batch   41/49   train_loss = 0.308\n",
      "Epoch 183 Batch   23/49   train_loss = 0.273\n",
      "Epoch 184 Batch    5/49   train_loss = 0.322\n",
      "Epoch 184 Batch   36/49   train_loss = 0.318\n",
      "Epoch 185 Batch   18/49   train_loss = 0.333\n",
      "Epoch 186 Batch    0/49   train_loss = 0.333\n",
      "Epoch 186 Batch   31/49   train_loss = 0.346\n",
      "Epoch 187 Batch   13/49   train_loss = 0.308\n",
      "Epoch 187 Batch   44/49   train_loss = 0.285\n",
      "Epoch 188 Batch   26/49   train_loss = 0.332\n",
      "Epoch 189 Batch    8/49   train_loss = 0.292\n",
      "Epoch 189 Batch   39/49   train_loss = 0.293\n",
      "Epoch 190 Batch   21/49   train_loss = 0.310\n",
      "Epoch 191 Batch    3/49   train_loss = 0.303\n",
      "Epoch 191 Batch   34/49   train_loss = 0.304\n",
      "Epoch 192 Batch   16/49   train_loss = 0.296\n",
      "Epoch 192 Batch   47/49   train_loss = 0.303\n",
      "Epoch 193 Batch   29/49   train_loss = 0.334\n",
      "Epoch 194 Batch   11/49   train_loss = 0.346\n",
      "Epoch 194 Batch   42/49   train_loss = 0.291\n",
      "Epoch 195 Batch   24/49   train_loss = 0.345\n",
      "Epoch 196 Batch    6/49   train_loss = 0.313\n",
      "Epoch 196 Batch   37/49   train_loss = 0.329\n",
      "Epoch 197 Batch   19/49   train_loss = 0.286\n",
      "Epoch 198 Batch    1/49   train_loss = 0.323\n",
      "Epoch 198 Batch   32/49   train_loss = 0.337\n",
      "Epoch 199 Batch   14/49   train_loss = 0.296\n",
      "Epoch 199 Batch   45/49   train_loss = 0.307\n",
      "Model Trained and Saved\n"
     ]
    }
   ],
   "source": [
    "\"\"\"\n",
    "DON'T MODIFY ANYTHING IN THIS CELL\n",
    "\"\"\"\n",
    "batches = get_batches(int_text, batch_size, seq_length)\n",
    "\n",
    "with tf.Session(graph=train_graph) as sess:\n",
    "    sess.run(tf.global_variables_initializer())\n",
    "\n",
    "    for epoch_i in range(num_epochs):\n",
    "        state = sess.run(initial_state, {input_text: batches[0][0]})\n",
    "\n",
    "        for batch_i, (x, y) in enumerate(batches):\n",
    "            feed = {\n",
    "                input_text: x,\n",
    "                targets: y,\n",
    "                initial_state: state,\n",
    "                lr: learning_rate}\n",
    "            train_loss, state, _ = sess.run([cost, final_state, train_op], feed)\n",
    "\n",
    "            # Show every <show_every_n_batches> batches\n",
    "            if (epoch_i * len(batches) + batch_i) % show_every_n_batches == 0:\n",
    "                print('Epoch {:>3} Batch {:>4}/{}   train_loss = {:.3f}'.format(\n",
    "                    epoch_i,\n",
    "                    batch_i,\n",
    "                    len(batches),\n",
    "                    train_loss))\n",
    "\n",
    "    # Save Model\n",
    "    saver = tf.train.Saver()\n",
    "    saver.save(sess, save_dir)\n",
    "    print('Model Trained and Saved')"
   ]
  },
  {
   "cell_type": "markdown",
   "metadata": {},
   "source": [
    "## 储存参数\n",
    "储存 `seq_length` 和 `save_dir` 来生成新的电视剧剧本。"
   ]
  },
  {
   "cell_type": "code",
   "execution_count": 23,
   "metadata": {},
   "outputs": [],
   "source": [
    "\"\"\"\n",
    "DON'T MODIFY ANYTHING IN THIS CELL\n",
    "\"\"\"\n",
    "# Save parameters for checkpoint\n",
    "helper.save_params((seq_length, save_dir))"
   ]
  },
  {
   "cell_type": "markdown",
   "metadata": {},
   "source": [
    "# 检查点"
   ]
  },
  {
   "cell_type": "code",
   "execution_count": 24,
   "metadata": {},
   "outputs": [],
   "source": [
    "\"\"\"\n",
    "DON'T MODIFY ANYTHING IN THIS CELL\n",
    "\"\"\"\n",
    "import tensorflow as tf\n",
    "import numpy as np\n",
    "import helper\n",
    "import problem_unittests as tests\n",
    "\n",
    "_, vocab_to_int, int_to_vocab, token_dict = helper.load_preprocess()\n",
    "seq_length, load_dir = helper.load_params()"
   ]
  },
  {
   "cell_type": "markdown",
   "metadata": {},
   "source": [
    "## 实现生成函数\n",
    "### 获取 Tensors\n",
    "使用 [`get_tensor_by_name()`](https://www.tensorflow.org/api_docs/python/tf/Graph#get_tensor_by_name)函数从 `loaded_graph` 中获取 tensor。  使用下面的名称获取 tensor：\n",
    "\n",
    "- \"input:0\"\n",
    "- \"initial_state:0\"\n",
    "- \"final_state:0\"\n",
    "- \"probs:0\"\n",
    "\n",
    "返回下列元组中的 tensor `(InputTensor, InitialStateTensor, FinalStateTensor, ProbsTensor)`"
   ]
  },
  {
   "cell_type": "code",
   "execution_count": 25,
   "metadata": {},
   "outputs": [
    {
     "name": "stdout",
     "output_type": "stream",
     "text": [
      "Tests Passed\n"
     ]
    }
   ],
   "source": [
    "def get_tensors(loaded_graph):\n",
    "    \"\"\"\n",
    "    Get input, initial state, final state, and probabilities tensor from <loaded_graph>\n",
    "    :param loaded_graph: TensorFlow graph loaded from file\n",
    "    :return: Tuple (InputTensor, InitialStateTensor, FinalStateTensor, ProbsTensor)\n",
    "    \"\"\"\n",
    "    # TODO: Implement Function\n",
    "    input_tensor = loaded_graph.get_tensor_by_name(\"input:0\")\n",
    "    initial_state_tensor = loaded_graph.get_tensor_by_name(\"initial_state:0\")\n",
    "    final_state_tensor = loaded_graph.get_tensor_by_name(\"final_state:0\")\n",
    "    probs_tensor = loaded_graph.get_tensor_by_name(\"probs:0\")\n",
    "    return input_tensor, initial_state_tensor, final_state_tensor, probs_tensor\n",
    "\n",
    "\n",
    "\"\"\"\n",
    "DON'T MODIFY ANYTHING IN THIS CELL THAT IS BELOW THIS LINE\n",
    "\"\"\"\n",
    "tests.test_get_tensors(get_tensors)"
   ]
  },
  {
   "cell_type": "markdown",
   "metadata": {},
   "source": [
    "### 选择词汇\n",
    "实现 `pick_word()` 函数来使用 `probabilities` 选择下一个词汇。"
   ]
  },
  {
   "cell_type": "code",
   "execution_count": 26,
   "metadata": {},
   "outputs": [
    {
     "name": "stdout",
     "output_type": "stream",
     "text": [
      "Tests Passed\n"
     ]
    }
   ],
   "source": [
    "def pick_word(probabilities, int_to_vocab):\n",
    "    \"\"\"\n",
    "    Pick the next word in the generated text\n",
    "    :param probabilities: Probabilites of the next word\n",
    "    :param int_to_vocab: Dictionary of word ids as the keys and words as the values\n",
    "    :return: String of the predicted word\n",
    "    \"\"\"\n",
    "    # TODO: Implement Function\n",
    "    # pred_word = int_to_vocab[np.argmax(probabilities)]\n",
    "    pred_word = np.random.choice(list(int_to_vocab.values()), 1, p=probabilities)[0]\n",
    "    return pred_word\n",
    "\n",
    "\n",
    "\"\"\"\n",
    "DON'T MODIFY ANYTHING IN THIS CELL THAT IS BELOW THIS LINE\n",
    "\"\"\"\n",
    "tests.test_pick_word(pick_word)"
   ]
  },
  {
   "cell_type": "markdown",
   "metadata": {},
   "source": [
    "## 生成电视剧剧本\n",
    "这将为你生成一个电视剧剧本。通过设置 `gen_length` 来调整你想生成的剧本长度。"
   ]
  },
  {
   "cell_type": "code",
   "execution_count": 30,
   "metadata": {},
   "outputs": [
    {
     "name": "stdout",
     "output_type": "stream",
     "text": [
      "moe_szyslak: hey, i don't need no advice from no pinball machine. and no, uh...\n",
      "moe_szyslak:(grim) we are live up that car.\n",
      "\n",
      "\n",
      "moe_szyslak: tax hike?\n",
      "moe_szyslak: our little hero sure seems like those too hours. oopsie.\n",
      "moe_szyslak: ah, this is now. you still still in here.\n",
      "homer_simpson: no. i want to moe's what i prefer to do anything as a new third computer!\n",
      "carl_carlson: all right, is there sucking on me.\n",
      "homer_simpson: i know, i lose...\n",
      "moe_szyslak:(laughing) oh, what happened to the best thing.\n",
      "lenny_leonard: what are you, moe?\n",
      "moe_szyslak: don't be over? but don't give a beer.\n",
      "moe_szyslak:(generously) aw that's a mouth.(sighs)\n",
      "\n",
      "\n",
      "carl_carlson: is there a chance.\n",
      "homer_simpson: so! / everybody! geez.(hangs up cell phone) then i did something.\n",
      "bart_simpson:(cool) letters don't you know about the best book you've always been so\n"
     ]
    }
   ],
   "source": [
    "gen_length = 200\n",
    "# homer_simpson, moe_szyslak, or Barney_Gumble\n",
    "prime_word = 'moe_szyslak'\n",
    "\n",
    "\"\"\"\n",
    "DON'T MODIFY ANYTHING IN THIS CELL THAT IS BELOW THIS LINE\n",
    "\"\"\"\n",
    "loaded_graph = tf.Graph()\n",
    "with tf.Session(graph=loaded_graph) as sess:\n",
    "    # Load saved model\n",
    "    loader = tf.train.import_meta_graph(load_dir + '.meta')\n",
    "    loader.restore(sess, load_dir)\n",
    "\n",
    "    # Get Tensors from loaded model\n",
    "    input_text, initial_state, final_state, probs = get_tensors(loaded_graph)\n",
    "\n",
    "    # Sentences generation setup\n",
    "    gen_sentences = [prime_word + ':']\n",
    "    prev_state = sess.run(initial_state, {input_text: np.array([[1]])})\n",
    "\n",
    "    # Generate sentences\n",
    "    for n in range(gen_length):\n",
    "        # Dynamic Input\n",
    "        dyn_input = [[vocab_to_int[word] for word in gen_sentences[-seq_length:]]]\n",
    "        dyn_seq_length = len(dyn_input[0])\n",
    "\n",
    "        # Get Prediction\n",
    "        probabilities, prev_state = sess.run(\n",
    "            [probs, final_state],\n",
    "            {input_text: dyn_input, initial_state: prev_state})\n",
    "        \n",
    "        pred_word = pick_word(probabilities[dyn_seq_length-1], int_to_vocab)\n",
    "\n",
    "        gen_sentences.append(pred_word)\n",
    "    \n",
    "    # Remove tokens\n",
    "    tv_script = ' '.join(gen_sentences)\n",
    "    for key, token in token_dict.items():\n",
    "        ending = ' ' if key in ['\\n', '(', '\"'] else ''\n",
    "        tv_script = tv_script.replace(' ' + token.lower(), key)\n",
    "    tv_script = tv_script.replace('\\n ', '\\n')\n",
    "    tv_script = tv_script.replace('( ', '(')\n",
    "        \n",
    "    print(tv_script)"
   ]
  },
  {
   "cell_type": "markdown",
   "metadata": {},
   "source": [
    "# 这个电视剧剧本是无意义的\n",
    "如果这个电视剧剧本毫无意义，那也没有关系。我们的训练文本不到一兆字节。为了获得更好的结果，你需要使用更小的词汇范围或是更多数据。幸运的是，我们的确拥有更多数据！在本项目开始之初我们也曾提过，这是[另一个数据集](https://www.kaggle.com/wcukierski/the-simpsons-by-the-data)的子集。我们并没有让你基于所有数据进行训练，因为这将耗费大量时间。然而，你可以随意使用这些数据训练你的神经网络。当然，是在完成本项目之后。\n",
    "# 提交项目\n",
    "在提交项目时，请确保你在保存 notebook 前运行了所有的单元格代码。请将 notebook 文件保存为 \"dlnd_tv_script_generation.ipynb\"，并将它作为 HTML 文件保存在 \"File\" -> \"Download as\" 中。请将 \"helper.py\" 和 \"problem_unittests.py\" 文件一并提交。"
   ]
  }
 ],
 "metadata": {
  "kernelspec": {
   "display_name": "Python 3",
   "language": "python",
   "name": "python3"
  },
  "language_info": {
   "codemirror_mode": {
    "name": "ipython",
    "version": 3
   },
   "file_extension": ".py",
   "mimetype": "text/x-python",
   "name": "python",
   "nbconvert_exporter": "python",
   "pygments_lexer": "ipython3",
   "version": "3.5.5"
  },
  "latex_envs": {
   "LaTeX_envs_menu_present": true,
   "autocomplete": true,
   "bibliofile": "biblio.bib",
   "cite_by": "apalike",
   "current_citInitial": 1,
   "eqLabelWithNumbers": true,
   "eqNumInitial": 1,
   "hotkeys": {
    "equation": "Ctrl-E",
    "itemize": "Ctrl-I"
   },
   "labels_anchors": false,
   "latex_user_defs": false,
   "report_style_numbering": false,
   "user_envs_cfg": false
  },
  "varInspector": {
   "cols": {
    "lenName": 16,
    "lenType": 16,
    "lenVar": 40
   },
   "kernels_config": {
    "python": {
     "delete_cmd_postfix": "",
     "delete_cmd_prefix": "del ",
     "library": "var_list.py",
     "varRefreshCmd": "print(var_dic_list())"
    },
    "r": {
     "delete_cmd_postfix": ") ",
     "delete_cmd_prefix": "rm(",
     "library": "var_list.r",
     "varRefreshCmd": "cat(var_dic_list()) "
    }
   },
   "types_to_exclude": [
    "module",
    "function",
    "builtin_function_or_method",
    "instance",
    "_Feature"
   ],
   "window_display": false
  }
 },
 "nbformat": 4,
 "nbformat_minor": 2
}
